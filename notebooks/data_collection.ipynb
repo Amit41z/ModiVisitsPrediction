{
 "cells": [
  {
   "cell_type": "markdown",
   "metadata": {},
   "source": [
    "For collecting and cleaning data"
   ]
  },
  {
   "cell_type": "code",
   "execution_count": 1,
   "metadata": {},
   "outputs": [],
   "source": [
    "import pandas as pd\n",
    "\n",
    "# Load and clean modi_visits.csv\n",
    "df_visits = pd.read_csv(r'C:\\Users\\LENOVO\\Desktop\\C C++\\modi-country-prediction\\data\\modi_visits.csv')\n",
    "df_visits['Date'] = pd.to_datetime(df_visits['Date'])  # Convert date to datetime format\n"
   ]
  },
  {
   "cell_type": "code",
   "execution_count": 12,
   "metadata": {},
   "outputs": [
    {
     "name": "stdout",
     "output_type": "stream",
     "text": [
      "        Date       Country    Visit_Type                Context\n",
      "0 2023-10-15           USA     Bilateral       Trade Agreements\n",
      "1 2023-05-22     Australia  Multilateral            QUAD Summit\n",
      "2 2022-09-18         Japan     Bilateral  Defense Collaboration\n",
      "3 2021-11-12        Russia     Bilateral     Energy Partnership\n",
      "4 2020-08-08  Saudi Arabia     Bilateral        Investment Deal\n"
     ]
    }
   ],
   "source": [
    "# Print a sample\n",
    "print(df_visits.head())"
   ]
  },
  {
   "cell_type": "code",
   "execution_count": 5,
   "metadata": {},
   "outputs": [],
   "source": [
    "# Load and clean trade_relations.csv\n",
    "df_trade = pd.read_csv(r'C:\\Users\\LENOVO\\Desktop\\C C++\\modi-country-prediction\\data\\trade_relations.csv')"
   ]
  },
  {
   "cell_type": "code",
   "execution_count": 6,
   "metadata": {},
   "outputs": [
    {
     "name": "stdout",
     "output_type": "stream",
     "text": [
      "Country                     0\n",
      "Trade_Value                 0\n",
      "Bilateral_Relation_Score    0\n",
      "dtype: int64\n"
     ]
    }
   ],
   "source": [
    "# Check for missing values in trade data\n",
    "print(df_trade.isnull().sum())\n"
   ]
  },
  {
   "cell_type": "code",
   "execution_count": 7,
   "metadata": {},
   "outputs": [],
   "source": [
    "# Load and clean global_events.csv\n",
    "df_events = pd.read_csv(r'C:\\Users\\LENOVO\\Desktop\\C C++\\modi-country-prediction\\data\\global_events.csv')"
   ]
  },
  {
   "cell_type": "code",
   "execution_count": 8,
   "metadata": {},
   "outputs": [],
   "source": [
    "# Merge datasets on country for the final dataset\n",
    "df = pd.merge(df_visits, df_trade, on='Country', how='left')\n",
    "df = pd.merge(df, df_events, on='Country', how='left')\n"
   ]
  },
  {
   "cell_type": "code",
   "execution_count": 9,
   "metadata": {},
   "outputs": [],
   "source": [
    "# Fill missing event data with 'No' as default\n",
    "df['Event_Next_Year'].fillna('No', inplace=True)"
   ]
  },
  {
   "cell_type": "code",
   "execution_count": 10,
   "metadata": {},
   "outputs": [],
   "source": [
    "# Save the cleaned and merged dataset\n",
    "df.to_csv(r'C:\\Users\\LENOVO\\Desktop\\C C++\\modi-country-prediction\\data\\merged_data.csv', index=False)"
   ]
  },
  {
   "cell_type": "code",
   "execution_count": 11,
   "metadata": {},
   "outputs": [
    {
     "name": "stdout",
     "output_type": "stream",
     "text": [
      "Merged data saved to merged_data.csv\n"
     ]
    }
   ],
   "source": [
    "print(\"Merged data saved to merged_data.csv\")"
   ]
  }
 ],
 "metadata": {
  "kernelspec": {
   "display_name": "Python 3",
   "language": "python",
   "name": "python3"
  },
  "language_info": {
   "codemirror_mode": {
    "name": "ipython",
    "version": 3
   },
   "file_extension": ".py",
   "mimetype": "text/x-python",
   "name": "python",
   "nbconvert_exporter": "python",
   "pygments_lexer": "ipython3",
   "version": "3.11.5"
  }
 },
 "nbformat": 4,
 "nbformat_minor": 2
}
